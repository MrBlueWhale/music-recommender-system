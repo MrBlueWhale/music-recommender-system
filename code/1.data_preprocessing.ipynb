{
 "cells": [
  {
   "cell_type": "markdown",
   "metadata": {},
   "source": [
    "python主流的推荐系统\n",
    "\n",
    "- surprise（工业届首先尝试方法，有一个中上的效果）\n",
    "\n",
    "- lightfm（有一些深度的方法，追求非常好的效果可以尝试使用）\n",
    "\n",
    "project = offine + online（离线+在线）\n",
    "\n",
    "    1)offine\n",
    "    - python脚本语言\n",
    "\n",
    "    2)online\n",
    "    - 效率至上 C++/Java\n",
    "\n",
    "    原则：能离线预先算好的，都离线算好，最优的形式：线上是一个k-v形式。\n",
    "\n",
    "推荐策略\n",
    "\n",
    "    1)针对用户推荐\n",
    "        - 每日7首歌\n",
    "\n",
    "    2)针对歌曲\n",
    "        - 听某首歌时，找“相似歌曲”\n",
    "\n",
    "### 原始数据=>歌单数据\n",
    "抽取 _**歌单名称，歌单id，收藏数，所属分类**_ 4个歌单维度的信息 <br>\n",
    "抽取 _**歌曲id，歌曲名，歌手，歌曲热度**_ 等4个维度信息歌曲的信息<br>\n",
    "\n",
    "组织成如下格式：\n",
    "```\n",
    "漫步西欧小镇上##小语种,旅行##69413685##474\t18682332::Wäg vo dir::Joy Amelie::70.0\t4335372::Only When I Sleep::The Corrs::60.0\t2925502::Si Seulement::Lynnsha::100.0\t21014930::Tu N'As Pas Cherché...::La Grande Sophie::100.0\t20932638::Du behöver aldrig mer vara rädd::Lasse Lindh::25.0\t17100518::Silent Machine::Cat Power::60.0\t3308096::Kor pai kon diew : ชอไปคนเดียว::Palmy::5.0\t1648250::les choristes::Petits Chanteurs De Saint Marc::100.0\t4376212::Paddy's Green Shamrock Shore::The High Kings::25.0\t2925400::A Todo Color::Las Escarlatinas::95.0\t19711402::Comme Toi::Vox Angeli::75.0\t3977526::Stay::Blue Cafe::100.0\t2538518::Shake::Elize::85.0\t2866799::Mon Ange::Jena Lee::85.0\t5191949::Je M'appelle Helene::Hélène Rolles::85.0\t20036323::Ich Lieb' Dich Immer Noch So Sehr::Kate & Ben::100.0\n",
    "```\n",
    "\n",
    "主流的推荐系统框架，支持的最基本的数据格式是movielens dataset格式；\n",
    "那我们也将数据处理成：评分数据格式为userid itemid rating timestamp的格式。"
   ]
  },
  {
   "cell_type": "code",
   "execution_count": 37,
   "metadata": {},
   "outputs": [],
   "source": [
    "import json\n",
    "import sys\n",
    "\n",
    "def is_null(s):\n",
    "    return len(s.split(\",\")) > 2\n",
    "\n",
    "def parse_song_info(song_info):\n",
    "    \"\"\" 解析歌曲 \"\"\"\n",
    "    try:\n",
    "        song_id, name, artist, popularity = song_info.split(\"::\")\n",
    "        return \",\".join([song_id, \"1.0\", '1300000'])\n",
    "    except Exception as e:\n",
    "        return \"\"\n",
    "    \n",
    "def parse_playlist_line(line):\n",
    "    \"\"\" 处理单行数据 \"\"\"\n",
    "    try:\n",
    "        contents = line.strip().split('\\t')\n",
    "        name, tags, playlist_id, subscribed_count = contents[0].split(\"##\")\n",
    "        songs_info = map(lambda x:playlist_id + \",\" + parse_song_info(x), contents[1:])\n",
    "        songs_info = filter(is_null, songs_info)\n",
    "        return \"\\n\".join(songs_info)\n",
    "    except Exception as e:\n",
    "        print(e)\n",
    "        return False\n",
    "\n",
    "def parse_file(in_file, out_file):\n",
    "    \"\"\" 解析数据格式到surprise指定格式 \"\"\"\n",
    "    out = open(out_file, 'wb')\n",
    "    for line in open(in_file):\n",
    "        result = parse_playlist_line(line)\n",
    "        if (result):\n",
    "            out.write(result.encode('utf-8').strip()+b\"\\n\")\n",
    "    out.close()"
   ]
  },
  {
   "cell_type": "code",
   "execution_count": 38,
   "metadata": {},
   "outputs": [],
   "source": [
    "parse_file('../data/popular.playlist', '../data/popular_music_format.txt')"
   ]
  },
  {
   "cell_type": "markdown",
   "metadata": {},
   "source": [
    "保存`歌单id=>歌单名`和`歌曲id=>歌曲名`的信息后期备用。"
   ]
  },
  {
   "cell_type": "code",
   "execution_count": 39,
   "metadata": {},
   "outputs": [],
   "source": [
    "import pickle\n",
    "import sys\n",
    "\n",
    "def parse_playlist_get_info(in_line, playlist_id_name_set, song_id_name_set):\n",
    "    contents = in_line.strip().split(\"\\t\")\n",
    "    name, tags, playlist_id, subscribed_count = contents[0].split(\"##\")\n",
    "    playlist_id_name_set[playlist_id] = name\n",
    "    for song in contents[1:]:\n",
    "        try:\n",
    "            song_id, song_name, artist, popularity = song.split(\"::\")\n",
    "            song_id_name_set[song_id] = song_name + \"\\t\" + artist\n",
    "        except:\n",
    "            print(\"song format error\")\n",
    "            return song+\"\\n\"\n",
    "\n",
    "def parse_file(in_file, out_playlist, out_song):\n",
    "    \"\"\" 建立歌曲id到歌曲名的映射，歌单id到歌单名的映射 \"\"\"\n",
    "    song_id_name_set = {}\n",
    "    playlist_id_name_set = {}\n",
    "    for line in open(in_file):\n",
    "        parse_playlist_get_info(line, playlist_id_name_set, song_id_name_set)\n",
    "    \n",
    "    # 将映射字典保存到二进制文件\n",
    "    pickle.dump(playlist_id_name_set, open(out_playlist, 'wb'))\n",
    "    pickle.dump(song_id_name_set, open(out_song, 'wb'))"
   ]
  },
  {
   "cell_type": "code",
   "execution_count": 40,
   "metadata": {},
   "outputs": [
    {
     "name": "stdout",
     "output_type": "stream",
     "text": [
      "song format error\n",
      "song format error\n",
      "song format error\n",
      "song format error\n",
      "song format error\n",
      "song format error\n",
      "song format error\n",
      "song format error\n",
      "song format error\n",
      "song format error\n",
      "song format error\n",
      "song format error\n",
      "song format error\n",
      "song format error\n",
      "song format error\n",
      "song format error\n",
      "song format error\n",
      "song format error\n",
      "song format error\n",
      "song format error\n",
      "song format error\n",
      "song format error\n"
     ]
    }
   ],
   "source": [
    "in_file = '../data/popular.playlist'\n",
    "out_playlist = '../data/playlist_id_name_set.data'\n",
    "out_song = '../data/song_id_name_set.data'\n",
    "\n",
    "parse_file(in_file, out_playlist, out_song)"
   ]
  }
 ],
 "metadata": {
  "kernelspec": {
   "display_name": "Python 3",
   "language": "python",
   "name": "python3"
  },
  "language_info": {
   "codemirror_mode": {
    "name": "ipython",
    "version": 3
   },
   "file_extension": ".py",
   "mimetype": "text/x-python",
   "name": "python",
   "nbconvert_exporter": "python",
   "pygments_lexer": "ipython3",
   "version": "3.6.8"
  }
 },
 "nbformat": 4,
 "nbformat_minor": 2
}
