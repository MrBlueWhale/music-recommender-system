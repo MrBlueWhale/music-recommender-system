{
 "cells": [
  {
   "cell_type": "markdown",
   "metadata": {},
   "source": [
    "# python推荐系统库Surprise\n",
    "\n",
    "推荐系统建模过程中，我们用到了python库，[Surprise(Simple Python RecommendatIon System Engine)](https://github.com/NicolasHug/Surprise)。\n",
    "\n",
    "基于近邻的方法（协同过滤）可以设定不同的度量标准：cosine、msd、pearson、pearson baseline。\n",
    "\n",
    "支持不同的评估准则：rmse、mae、fcp\n",
    "\n",
    "### 示例\n",
    "    # 指定文件所在路径\n",
    "    file_path = os.path.expanduser('~/.surprise_data/ml-100k/ml-100k/u.data')\n",
    "    # 告诉文本阅读器，文本的格式是怎么样的\n",
    "    reader = Reader(line_format='user item rating timestamp', sep='\\t')\n",
    "    # 加载数据\n",
    "    data = Dataset.load_from_file(file_path, reader=reader)\n",
    "    # 手动切分成5折(方便交叉验证)\n",
    "    data.split(n_folds=5)\n",
    "    \n",
    "### 算法调参\n",
    "    矩阵分解实现的算法通过sgd进行优化，因此一些超参数会影响最后的结果。这里使用网格搜索交叉验证（GridSearchCV）来找到最优的参数。\n",
    "    # 定义好需要优选的参数网格\n",
    "    param_grid = {'n_epochs': [5, 10], 'lr_all': [0.002, 0.005],\n",
    "                  'reg_all': [0.4, 0.6]}\n",
    "    # 使用网格搜索交叉验证\n",
    "    grid_search = GridSearch(SVD, param_grid, measures=['RMSE', 'FCP'])\n",
    "    # 在数据集上找到最好的参数\n",
    "    data = Dataset.load_builtin('ml-100k')\n",
    "    data.split(n_folds=3)\n",
    "    grid_search.evaluate(data)\n",
    "    # 输出调优的参数组 \n",
    "    # 输出最好的RMSE结果\n",
    "    print(grid_search.best_score['RMSE'])\n",
    "    # >>> 0.96117566386\n",
    "\n",
    "    # 输出对应最好的RMSE结果的参数\n",
    "    print(grid_search.best_params['RMSE'])\n",
    "    # >>> {'reg_all': 0.4, 'lr_all': 0.005, 'n_epochs': 10}\n",
    "\n",
    "    # 最好的FCP得分\n",
    "    print(grid_search.best_score['FCP'])\n",
    "    # >>> 0.702279736531\n",
    "\n",
    "    # 对应最高FCP得分的参数\n",
    "    print(grid_search.best_params['FCP'])\n",
    "    # >>> {'reg_all': 0.6, 'lr_all': 0.005, 'n_epochs': 10}\n",
    "    ```"
   ]
  },
  {
   "cell_type": "markdown",
   "metadata": {},
   "source": [
    "# 载入数据"
   ]
  },
  {
   "cell_type": "code",
   "execution_count": 2,
   "metadata": {},
   "outputs": [],
   "source": [
    "from surprise import KNNBaseline\n",
    "from surprise import Dataset, Reader\n",
    "import pickle"
   ]
  },
  {
   "cell_type": "code",
   "execution_count": 3,
   "metadata": {},
   "outputs": [
    {
     "name": "stdout",
     "output_type": "stream",
     "text": [
      "建立歌单名到歌单id的映射字典完成!\n"
     ]
    }
   ],
   "source": [
    "# 加载歌单id到歌单名的映射\n",
    "playlist_id_name_set = pickle.load(open('../data/playlist_id_name_set.data', 'rb'))\n",
    "\n",
    "# 重建歌单名到歌单id的映射\n",
    "playlist_name_id_set = {}\n",
    "for id in playlist_id_name_set:\n",
    "    playlist_name_id_set[playlist_id_name_set[id]] = id\n",
    "print('建立歌单名到歌单id的映射字典完成!')"
   ]
  },
  {
   "cell_type": "markdown",
   "metadata": {},
   "source": [
    "歌单id到歌单名的映射，playlist_id_name_set：\n",
    "\n",
    "{\n",
    "'69466470': '999句情话·不如一句《嫁给我吧》',\n",
    " '69496577': '没有吉他我就唱不出歌·续',\n",
    " '69545352': '五月——奔跑吧，青春',\n",
    " '69590790': '一把吉他，且听我慢慢道来【华语】',\n",
    " ...\n",
    " }"
   ]
  },
  {
   "cell_type": "code",
   "execution_count": 10,
   "metadata": {},
   "outputs": [
    {
     "name": "stdout",
     "output_type": "stream",
     "text": [
      "构建数据集完成...\n"
     ]
    }
   ],
   "source": [
    "# MovieLens数据集格式的文件，格式为：user item rating timestamp \n",
    "file_path = '../data/popular_music_format.txt'\n",
    "\n",
    "# 指定文件格式\n",
    "reader = Reader(line_format='user item rating timestamp', sep=',')\n",
    "# 从文件中读取数据\n",
    "music_data = Dataset.load_from_file(file_path, reader=reader)\n",
    "# 计算歌曲到歌曲之间的相似度\n",
    "trainset = music_data.build_full_trainset()\n",
    "print('构建数据集完成...')"
   ]
  },
  {
   "cell_type": "code",
   "execution_count": 17,
   "metadata": {},
   "outputs": [
    {
     "name": "stdout",
     "output_type": "stream",
     "text": [
      "开始训练模型...\n",
      "Estimating biases using als...\n",
      "Computing the msd similarity matrix...\n",
      "Done computing similarity matrix.\n"
     ]
    },
    {
     "data": {
      "text/plain": [
       "<surprise.prediction_algorithms.knns.KNNBaseline at 0x103227780>"
      ]
     },
     "execution_count": 17,
     "metadata": {},
     "output_type": "execute_result"
    }
   ],
   "source": [
    "# 使用knn算法\n",
    "print('开始训练模型...')\n",
    "algo = KNNBaseline()\n",
    "algo.train(trainset)"
   ]
  },
  {
   "cell_type": "code",
   "execution_count": 18,
   "metadata": {},
   "outputs": [
    {
     "data": {
      "text/plain": [
       "['999句情话·不如一句《嫁给我吧》',\n",
       " '没有吉他我就唱不出歌·续',\n",
       " '五月——奔跑吧，青春',\n",
       " '一把吉他，且听我慢慢道来【华语】',\n",
       " '适合吉他初学者弹奏的歌曲']"
      ]
     },
     "execution_count": 18,
     "metadata": {},
     "output_type": "execute_result"
    }
   ],
   "source": [
    "# 歌单列表\n",
    "list(playlist_name_id_set.keys())[0:5]"
   ]
  },
  {
   "cell_type": "code",
   "execution_count": 21,
   "metadata": {},
   "outputs": [
    {
     "name": "stdout",
     "output_type": "stream",
     "text": [
      "适合吉他初学者弹奏的歌曲\n"
     ]
    }
   ],
   "source": [
    "# 第4个歌单的歌单名\n",
    "current_playlist_name = list(playlist_name_id_set.keys())[4]\n",
    "print(current_playlist_name)"
   ]
  },
  {
   "cell_type": "code",
   "execution_count": 24,
   "metadata": {},
   "outputs": [
    {
     "name": "stdout",
     "output_type": "stream",
     "text": [
      "69758545\n"
     ]
    }
   ],
   "source": [
    "# 该歌单对应的歌单id\n",
    "playlist_id = playlist_name_id_set[current_playlist_name]\n",
    "print(playlist_id)"
   ]
  },
  {
   "cell_type": "code",
   "execution_count": 26,
   "metadata": {},
   "outputs": [
    {
     "name": "stdout",
     "output_type": "stream",
     "text": [
      "4\n"
     ]
    }
   ],
   "source": [
    "# playlist_inner_id为第几个歌单的id，而非实际id\n",
    "playlist_inner_id = algo.trainset.to_inner_uid(playlist_id)\n",
    "print(playlist_inner_id)"
   ]
  },
  {
   "cell_type": "code",
   "execution_count": 32,
   "metadata": {},
   "outputs": [
    {
     "data": {
      "text/plain": [
       "[1, 3, 9, 14, 16, 19, 24, 26, 28, 32]"
      ]
     },
     "execution_count": 32,
     "metadata": {},
     "output_type": "execute_result"
    }
   ],
   "source": [
    "# 获取当前歌单最相似的10个歌单id\n",
    "playlist_neighbor_ids = algo.get_neighbors(playlist_inner_id, k=10)\n",
    "playlist_neighbor_ids"
   ]
  },
  {
   "cell_type": "code",
   "execution_count": 29,
   "metadata": {},
   "outputs": [],
   "source": [
    "# 把歌单id列表转成歌单名字列表\n",
    "playlist_neighbor_raw_ids = [algo.trainset.to_raw_uid(inner_id) for inner_id in playlist_neighbor_ids]\n",
    "playlist_neighbor_names = [playlist_id_name_set[playlist_raw_id] for playlist_raw_id in playlist_neighbor_raw_ids]"
   ]
  },
  {
   "cell_type": "code",
   "execution_count": 30,
   "metadata": {},
   "outputs": [
    {
     "data": {
      "text/plain": [
       "['没有吉他我就唱不出歌·续',\n",
       " '一把吉他，且听我慢慢道来【华语】',\n",
       " '忽晴忽雨的江湖 【私藏民谣】',\n",
       " '【青年节特辑】致:我们终将逝去的青春',\n",
       " '红遍网络的好音乐《精选辑》',\n",
       " '单曲循环都不够滴华语',\n",
       " '听了五年还不舍得删的华语歌',\n",
       " '难过的时候请安静听歌',\n",
       " '记忆中的歌声',\n",
       " '♬ 听一次民谣 梦一次远方']"
      ]
     },
     "execution_count": 30,
     "metadata": {},
     "output_type": "execute_result"
    }
   ],
   "source": [
    "playlist_neighbor_names"
   ]
  },
  {
   "cell_type": "markdown",
   "metadata": {},
   "source": [
    "我们使用基于用户的协同过滤算法，根据歌单《适合吉他初学者弹奏的歌曲》所推荐的十个歌单为：\n",
    "     \n",
    "     '没有吉他我就唱不出歌·续',\n",
    "     '一把吉他，且听我慢慢道来【华语】',\n",
    "     '忽晴忽雨的江湖 【私藏民谣】',\n",
    "     '【青年节特辑】致:我们终将逝去的青春',\n",
    "     '红遍网络的好音乐《精选辑》',\n",
    "     '单曲循环都不够滴华语',\n",
    "     '听了五年还不舍得删的华语歌',\n",
    "     '难过的时候请安静听歌',\n",
    "     '记忆中的歌声',\n",
    "     '♬ 听一次民谣 梦一次远方'"
   ]
  }
 ],
 "metadata": {
  "kernelspec": {
   "display_name": "Python 3",
   "language": "python",
   "name": "python3"
  },
  "language_info": {
   "codemirror_mode": {
    "name": "ipython",
    "version": 3
   },
   "file_extension": ".py",
   "mimetype": "text/x-python",
   "name": "python",
   "nbconvert_exporter": "python",
   "pygments_lexer": "ipython3",
   "version": "3.6.8"
  }
 },
 "nbformat": 4,
 "nbformat_minor": 2
}
